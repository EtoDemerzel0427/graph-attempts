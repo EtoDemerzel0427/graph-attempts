{
 "cells": [
  {
   "cell_type": "markdown",
   "metadata": {},
   "source": [
    "## Intro to the datasets\n",
    "\n",
    "**EDIT: I deleted the GitHub dataset here since the description in the doc made me confused.**\n",
    "\n",
    "In YouTube dataset, each line contains a user identifier followed by a group identifier (separated by a tab), implying that the user is a member of the group.\n",
    "\n",
    "**user-num**: 94238\n",
    "\n",
    "**group-num**:30087\n"
   ]
  },
  {
   "cell_type": "markdown",
   "metadata": {},
   "source": [
    "## Randomly select 20000 users\n",
    "\n",
    "As is proposed in the paper of BiNE, we should extract 15000 users and reserve all their edges to be our universal dataset. Since these 2 datasets are sparser than Wikipedia, we select 20000 users here.\n",
    "\n",
    "After selection, the edge number:\n",
    "\n",
    "* **YouTube**: 62098\n",
    "\n",
    "Also, we want to rename all user identifiers by adding a letter 'u' before them, and all group/project identifiers by a letter 'i' so as to distinguish them.\n",
    "\n",
    "Note that in YouTube dataset there is one extra line, so we use `next` to skip it."
   ]
  },
  {
   "cell_type": "code",
   "execution_count": 1,
   "metadata": {},
   "outputs": [],
   "source": [
    "import numpy as np"
   ]
  },
  {
   "cell_type": "code",
   "execution_count": 37,
   "metadata": {},
   "outputs": [],
   "source": [
    "a = np.arange(1,94239)\n",
    "b = np.arange(1, 120868)"
   ]
  },
  {
   "cell_type": "code",
   "execution_count": 47,
   "metadata": {},
   "outputs": [],
   "source": [
    "rs1 = np.random.RandomState(111)\n",
    "rs2 = np.random.RandomState(222)\n",
    "#users_y = rs1.randint(low=1, high=94238, size = 20000)\n",
    "#users_g = rs2.randint(low=1, high=120867, size = 20000)\n",
    "rs1.shuffle(a)\n",
    "rs2.shuffle(b)\n",
    "users_y = a[:20000]\n",
    "users_g = b[:20000]"
   ]
  },
  {
   "cell_type": "code",
   "execution_count": 48,
   "metadata": {},
   "outputs": [
    {
     "data": {
      "text/plain": [
       "62098"
      ]
     },
     "execution_count": 48,
     "metadata": {},
     "output_type": "execute_result"
    }
   ],
   "source": [
    "with open('out.youtube-groupmemberships', 'r') as fin, open('youtube_selected.dat','w') as fout:\n",
    "    next(fin)\n",
    "    line_num = 0\n",
    "    for line in fin:\n",
    "        user, group = line.strip().split(' ')\n",
    "        if int(user) in users_y:\n",
    "            line_num += 1\n",
    "            fout.write('u' + user + ' ' + 'i' + group + '\\n')    \n",
    "\n",
    "line_num"
   ]
  },
  {
   "cell_type": "markdown",
   "metadata": {},
   "source": [
    "## Split training and test set\n",
    "\n",
    "As BiNE proposed, we should take 60% edges of each user as the training set, and the other 40% as the positive samples in the test set. For the test set, we need to sample an equal number of negative samples i.e. edges that does not exist."
   ]
  },
  {
   "cell_type": "markdown",
   "metadata": {},
   "source": [
    "### First we calculate each user's edge number\n"
   ]
  },
  {
   "cell_type": "code",
   "execution_count": 36,
   "metadata": {},
   "outputs": [],
   "source": [
    "def user_cnt(filename):\n",
    "    cnt = []\n",
    "    \n",
    "    i = 0\n",
    "    first = True\n",
    "    with open(filename, 'r') as fin:\n",
    "        # with (user, item) heading added\n",
    "        next(fin)\n",
    "        for line in fin:\n",
    "            user, group = line.strip().split(' ')\n",
    "            # for the first line\n",
    "            if first:\n",
    "                cur = user\n",
    "                first = False\n",
    "                i = 0\n",
    "        \n",
    "            if user != cur:\n",
    "                cnt.append(i) # count finish\n",
    "                i = 1 # restart and count for 1\n",
    "                cur = user  \n",
    "            else:\n",
    "                i += 1\n",
    "    \n",
    "        # the last entity\n",
    "        cnt.append(i)\n",
    "    \n",
    "    return cnt"
   ]
  },
  {
   "cell_type": "code",
   "execution_count": 37,
   "metadata": {},
   "outputs": [],
   "source": [
    "youtube_cnt = user_cnt('youtube_selected.dat')"
   ]
  },
  {
   "cell_type": "code",
   "execution_count": 38,
   "metadata": {},
   "outputs": [
    {
     "data": {
      "text/plain": [
       "20000"
      ]
     },
     "execution_count": 38,
     "metadata": {},
     "output_type": "execute_result"
    }
   ],
   "source": [
    "len(youtube_cnt)"
   ]
  },
  {
   "cell_type": "markdown",
   "metadata": {},
   "source": [
    "### Then for each user, split 60% for Training set\n",
    "\n",
    "Before using pandas `read_table`, I manually add a line in the file:\n",
    "```\n",
    "user item\n",
    "```\n",
    "to serve as the heading."
   ]
  },
  {
   "cell_type": "code",
   "execution_count": 8,
   "metadata": {},
   "outputs": [],
   "source": [
    "import pandas as pd"
   ]
  },
  {
   "cell_type": "code",
   "execution_count": 9,
   "metadata": {},
   "outputs": [],
   "source": [
    "f = pd.read_table('youtube_selected.dat', sep = ' ')"
   ]
  },
  {
   "cell_type": "code",
   "execution_count": 13,
   "metadata": {},
   "outputs": [
    {
     "data": {
      "text/html": [
       "<div>\n",
       "<style scoped>\n",
       "    .dataframe tbody tr th:only-of-type {\n",
       "        vertical-align: middle;\n",
       "    }\n",
       "\n",
       "    .dataframe tbody tr th {\n",
       "        vertical-align: top;\n",
       "    }\n",
       "\n",
       "    .dataframe thead th {\n",
       "        text-align: right;\n",
       "    }\n",
       "</style>\n",
       "<table border=\"1\" class=\"dataframe\">\n",
       "  <thead>\n",
       "    <tr style=\"text-align: right;\">\n",
       "      <th></th>\n",
       "      <th>user</th>\n",
       "      <th>item</th>\n",
       "    </tr>\n",
       "  </thead>\n",
       "  <tbody>\n",
       "    <tr>\n",
       "      <th>0</th>\n",
       "      <td>u5</td>\n",
       "      <td>i20</td>\n",
       "    </tr>\n",
       "    <tr>\n",
       "      <th>1</th>\n",
       "      <td>u5</td>\n",
       "      <td>i21</td>\n",
       "    </tr>\n",
       "    <tr>\n",
       "      <th>2</th>\n",
       "      <td>u5</td>\n",
       "      <td>i22</td>\n",
       "    </tr>\n",
       "    <tr>\n",
       "      <th>3</th>\n",
       "      <td>u11</td>\n",
       "      <td>i52</td>\n",
       "    </tr>\n",
       "    <tr>\n",
       "      <th>4</th>\n",
       "      <td>u13</td>\n",
       "      <td>i54</td>\n",
       "    </tr>\n",
       "    <tr>\n",
       "      <th>5</th>\n",
       "      <td>u13</td>\n",
       "      <td>i55</td>\n",
       "    </tr>\n",
       "    <tr>\n",
       "      <th>6</th>\n",
       "      <td>u13</td>\n",
       "      <td>i56</td>\n",
       "    </tr>\n",
       "    <tr>\n",
       "      <th>7</th>\n",
       "      <td>u19</td>\n",
       "      <td>i71</td>\n",
       "    </tr>\n",
       "    <tr>\n",
       "      <th>8</th>\n",
       "      <td>u19</td>\n",
       "      <td>i72</td>\n",
       "    </tr>\n",
       "    <tr>\n",
       "      <th>9</th>\n",
       "      <td>u19</td>\n",
       "      <td>i73</td>\n",
       "    </tr>\n",
       "    <tr>\n",
       "      <th>10</th>\n",
       "      <td>u19</td>\n",
       "      <td>i74</td>\n",
       "    </tr>\n",
       "    <tr>\n",
       "      <th>11</th>\n",
       "      <td>u19</td>\n",
       "      <td>i75</td>\n",
       "    </tr>\n",
       "    <tr>\n",
       "      <th>12</th>\n",
       "      <td>u19</td>\n",
       "      <td>i76</td>\n",
       "    </tr>\n",
       "    <tr>\n",
       "      <th>13</th>\n",
       "      <td>u19</td>\n",
       "      <td>i77</td>\n",
       "    </tr>\n",
       "    <tr>\n",
       "      <th>14</th>\n",
       "      <td>u19</td>\n",
       "      <td>i78</td>\n",
       "    </tr>\n",
       "    <tr>\n",
       "      <th>15</th>\n",
       "      <td>u19</td>\n",
       "      <td>i79</td>\n",
       "    </tr>\n",
       "    <tr>\n",
       "      <th>16</th>\n",
       "      <td>u19</td>\n",
       "      <td>i80</td>\n",
       "    </tr>\n",
       "    <tr>\n",
       "      <th>17</th>\n",
       "      <td>u19</td>\n",
       "      <td>i81</td>\n",
       "    </tr>\n",
       "    <tr>\n",
       "      <th>18</th>\n",
       "      <td>u19</td>\n",
       "      <td>i82</td>\n",
       "    </tr>\n",
       "    <tr>\n",
       "      <th>19</th>\n",
       "      <td>u19</td>\n",
       "      <td>i83</td>\n",
       "    </tr>\n",
       "    <tr>\n",
       "      <th>20</th>\n",
       "      <td>u19</td>\n",
       "      <td>i84</td>\n",
       "    </tr>\n",
       "    <tr>\n",
       "      <th>21</th>\n",
       "      <td>u19</td>\n",
       "      <td>i85</td>\n",
       "    </tr>\n",
       "    <tr>\n",
       "      <th>22</th>\n",
       "      <td>u19</td>\n",
       "      <td>i86</td>\n",
       "    </tr>\n",
       "    <tr>\n",
       "      <th>23</th>\n",
       "      <td>u19</td>\n",
       "      <td>i87</td>\n",
       "    </tr>\n",
       "    <tr>\n",
       "      <th>24</th>\n",
       "      <td>u19</td>\n",
       "      <td>i88</td>\n",
       "    </tr>\n",
       "    <tr>\n",
       "      <th>25</th>\n",
       "      <td>u19</td>\n",
       "      <td>i89</td>\n",
       "    </tr>\n",
       "    <tr>\n",
       "      <th>26</th>\n",
       "      <td>u19</td>\n",
       "      <td>i90</td>\n",
       "    </tr>\n",
       "    <tr>\n",
       "      <th>27</th>\n",
       "      <td>u19</td>\n",
       "      <td>i91</td>\n",
       "    </tr>\n",
       "    <tr>\n",
       "      <th>28</th>\n",
       "      <td>u19</td>\n",
       "      <td>i92</td>\n",
       "    </tr>\n",
       "    <tr>\n",
       "      <th>29</th>\n",
       "      <td>u19</td>\n",
       "      <td>i93</td>\n",
       "    </tr>\n",
       "    <tr>\n",
       "      <th>...</th>\n",
       "      <td>...</td>\n",
       "      <td>...</td>\n",
       "    </tr>\n",
       "    <tr>\n",
       "      <th>62068</th>\n",
       "      <td>u94173</td>\n",
       "      <td>i830</td>\n",
       "    </tr>\n",
       "    <tr>\n",
       "      <th>62069</th>\n",
       "      <td>u94173</td>\n",
       "      <td>i602</td>\n",
       "    </tr>\n",
       "    <tr>\n",
       "      <th>62070</th>\n",
       "      <td>u94173</td>\n",
       "      <td>i1093</td>\n",
       "    </tr>\n",
       "    <tr>\n",
       "      <th>62071</th>\n",
       "      <td>u94173</td>\n",
       "      <td>i644</td>\n",
       "    </tr>\n",
       "    <tr>\n",
       "      <th>62072</th>\n",
       "      <td>u94173</td>\n",
       "      <td>i646</td>\n",
       "    </tr>\n",
       "    <tr>\n",
       "      <th>62073</th>\n",
       "      <td>u94173</td>\n",
       "      <td>i674</td>\n",
       "    </tr>\n",
       "    <tr>\n",
       "      <th>62074</th>\n",
       "      <td>u94173</td>\n",
       "      <td>i711</td>\n",
       "    </tr>\n",
       "    <tr>\n",
       "      <th>62075</th>\n",
       "      <td>u94173</td>\n",
       "      <td>i1572</td>\n",
       "    </tr>\n",
       "    <tr>\n",
       "      <th>62076</th>\n",
       "      <td>u94173</td>\n",
       "      <td>i1815</td>\n",
       "    </tr>\n",
       "    <tr>\n",
       "      <th>62077</th>\n",
       "      <td>u94173</td>\n",
       "      <td>i1793</td>\n",
       "    </tr>\n",
       "    <tr>\n",
       "      <th>62078</th>\n",
       "      <td>u94173</td>\n",
       "      <td>i4015</td>\n",
       "    </tr>\n",
       "    <tr>\n",
       "      <th>62079</th>\n",
       "      <td>u94173</td>\n",
       "      <td>i4513</td>\n",
       "    </tr>\n",
       "    <tr>\n",
       "      <th>62080</th>\n",
       "      <td>u94173</td>\n",
       "      <td>i7869</td>\n",
       "    </tr>\n",
       "    <tr>\n",
       "      <th>62081</th>\n",
       "      <td>u94173</td>\n",
       "      <td>i8828</td>\n",
       "    </tr>\n",
       "    <tr>\n",
       "      <th>62082</th>\n",
       "      <td>u94182</td>\n",
       "      <td>i30054</td>\n",
       "    </tr>\n",
       "    <tr>\n",
       "      <th>62083</th>\n",
       "      <td>u94182</td>\n",
       "      <td>i30055</td>\n",
       "    </tr>\n",
       "    <tr>\n",
       "      <th>62084</th>\n",
       "      <td>u94185</td>\n",
       "      <td>i171</td>\n",
       "    </tr>\n",
       "    <tr>\n",
       "      <th>62085</th>\n",
       "      <td>u94185</td>\n",
       "      <td>i9386</td>\n",
       "    </tr>\n",
       "    <tr>\n",
       "      <th>62086</th>\n",
       "      <td>u94189</td>\n",
       "      <td>i114</td>\n",
       "    </tr>\n",
       "    <tr>\n",
       "      <th>62087</th>\n",
       "      <td>u94189</td>\n",
       "      <td>i2374</td>\n",
       "    </tr>\n",
       "    <tr>\n",
       "      <th>62088</th>\n",
       "      <td>u94189</td>\n",
       "      <td>i4015</td>\n",
       "    </tr>\n",
       "    <tr>\n",
       "      <th>62089</th>\n",
       "      <td>u94189</td>\n",
       "      <td>i4048</td>\n",
       "    </tr>\n",
       "    <tr>\n",
       "      <th>62090</th>\n",
       "      <td>u94189</td>\n",
       "      <td>i4377</td>\n",
       "    </tr>\n",
       "    <tr>\n",
       "      <th>62091</th>\n",
       "      <td>u94189</td>\n",
       "      <td>i7446</td>\n",
       "    </tr>\n",
       "    <tr>\n",
       "      <th>62092</th>\n",
       "      <td>u94194</td>\n",
       "      <td>i6150</td>\n",
       "    </tr>\n",
       "    <tr>\n",
       "      <th>62093</th>\n",
       "      <td>u94204</td>\n",
       "      <td>i30064</td>\n",
       "    </tr>\n",
       "    <tr>\n",
       "      <th>62094</th>\n",
       "      <td>u94215</td>\n",
       "      <td>i174</td>\n",
       "    </tr>\n",
       "    <tr>\n",
       "      <th>62095</th>\n",
       "      <td>u94221</td>\n",
       "      <td>i1024</td>\n",
       "    </tr>\n",
       "    <tr>\n",
       "      <th>62096</th>\n",
       "      <td>u94223</td>\n",
       "      <td>i199</td>\n",
       "    </tr>\n",
       "    <tr>\n",
       "      <th>62097</th>\n",
       "      <td>u94223</td>\n",
       "      <td>i5162</td>\n",
       "    </tr>\n",
       "  </tbody>\n",
       "</table>\n",
       "<p>62098 rows × 2 columns</p>\n",
       "</div>"
      ],
      "text/plain": [
       "         user    item\n",
       "0          u5     i20\n",
       "1          u5     i21\n",
       "2          u5     i22\n",
       "3         u11     i52\n",
       "4         u13     i54\n",
       "5         u13     i55\n",
       "6         u13     i56\n",
       "7         u19     i71\n",
       "8         u19     i72\n",
       "9         u19     i73\n",
       "10        u19     i74\n",
       "11        u19     i75\n",
       "12        u19     i76\n",
       "13        u19     i77\n",
       "14        u19     i78\n",
       "15        u19     i79\n",
       "16        u19     i80\n",
       "17        u19     i81\n",
       "18        u19     i82\n",
       "19        u19     i83\n",
       "20        u19     i84\n",
       "21        u19     i85\n",
       "22        u19     i86\n",
       "23        u19     i87\n",
       "24        u19     i88\n",
       "25        u19     i89\n",
       "26        u19     i90\n",
       "27        u19     i91\n",
       "28        u19     i92\n",
       "29        u19     i93\n",
       "...       ...     ...\n",
       "62068  u94173    i830\n",
       "62069  u94173    i602\n",
       "62070  u94173   i1093\n",
       "62071  u94173    i644\n",
       "62072  u94173    i646\n",
       "62073  u94173    i674\n",
       "62074  u94173    i711\n",
       "62075  u94173   i1572\n",
       "62076  u94173   i1815\n",
       "62077  u94173   i1793\n",
       "62078  u94173   i4015\n",
       "62079  u94173   i4513\n",
       "62080  u94173   i7869\n",
       "62081  u94173   i8828\n",
       "62082  u94182  i30054\n",
       "62083  u94182  i30055\n",
       "62084  u94185    i171\n",
       "62085  u94185   i9386\n",
       "62086  u94189    i114\n",
       "62087  u94189   i2374\n",
       "62088  u94189   i4015\n",
       "62089  u94189   i4048\n",
       "62090  u94189   i4377\n",
       "62091  u94189   i7446\n",
       "62092  u94194   i6150\n",
       "62093  u94204  i30064\n",
       "62094  u94215    i174\n",
       "62095  u94221   i1024\n",
       "62096  u94223    i199\n",
       "62097  u94223   i5162\n",
       "\n",
       "[62098 rows x 2 columns]"
      ]
     },
     "execution_count": 13,
     "metadata": {},
     "output_type": "execute_result"
    }
   ],
   "source": [
    "f"
   ]
  },
  {
   "cell_type": "code",
   "execution_count": 26,
   "metadata": {},
   "outputs": [],
   "source": [
    "start, end = 0,0\n",
    "pnt = 0\n",
    "for i in youtube_cnt:\n",
    "    pnt += 1\n",
    "    start = end\n",
    "    end = start + i\n",
    "    cur = f.iloc[start:end, :]\n",
    "    train = cur.sample(frac=0.6)\n",
    "    test = pd.concat([cur,train]).drop_duplicates(keep=False)\n",
    "    train.to_csv('youtube_train.dat', header=None, index=None, mode='a')\n",
    "    test.to_csv('youtube_test.dat', header=None, index=None, mode='a')"
   ]
  },
  {
   "cell_type": "markdown",
   "metadata": {},
   "source": [
    "## Add negative samples\n",
    "\n",
    "Now we have a train set and a test set with only positive samples. The positive samples can be used to train LINE or our apporach i.e. B-LINE. However, in order to train a LR, we should add some negative samples. The number of negative entities should be equal with the total entities number in train and test set."
   ]
  },
  {
   "cell_type": "code",
   "execution_count": 1,
   "metadata": {},
   "outputs": [],
   "source": [
    "import networkx as nx\n",
    "from networkx.algorithms import bipartite"
   ]
  },
  {
   "cell_type": "code",
   "execution_count": 2,
   "metadata": {},
   "outputs": [],
   "source": [
    "g = nx.Graph()"
   ]
  },
  {
   "cell_type": "code",
   "execution_count": 3,
   "metadata": {},
   "outputs": [],
   "source": [
    "with open('youtube_selected.dat', 'r') as fin:\n",
    "    next(fin)\n",
    "    for line in fin:\n",
    "        user, group = line.strip().split(' ')\n",
    "        g.add_node(user, bipartite = 0)\n",
    "        g.add_node(group, bipartite = 1)\n",
    "        g.add_edge(user, group)"
   ]
  },
  {
   "cell_type": "code",
   "execution_count": 4,
   "metadata": {},
   "outputs": [],
   "source": [
    "top_nodes = {n for n, d in g.nodes(data=True) if d['bipartite']==0}"
   ]
  },
  {
   "cell_type": "code",
   "execution_count": 5,
   "metadata": {},
   "outputs": [
    {
     "data": {
      "text/plain": [
       "62098"
      ]
     },
     "execution_count": 5,
     "metadata": {},
     "output_type": "execute_result"
    }
   ],
   "source": [
    "g.number_of_edges()"
   ]
  },
  {
   "cell_type": "code",
   "execution_count": 6,
   "metadata": {
    "scrolled": true
   },
   "outputs": [
    {
     "data": {
      "text/plain": [
       "20000"
      ]
     },
     "execution_count": 6,
     "metadata": {},
     "output_type": "execute_result"
    }
   ],
   "source": [
    "len(top_nodes)"
   ]
  },
  {
   "cell_type": "code",
   "execution_count": 7,
   "metadata": {},
   "outputs": [],
   "source": [
    "bottom_nodes = set(g) - top_nodes"
   ]
  },
  {
   "cell_type": "markdown",
   "metadata": {},
   "source": [
    "### Then we want to create a dictionary to map numbers to nodes"
   ]
  },
  {
   "cell_type": "code",
   "execution_count": 8,
   "metadata": {},
   "outputs": [],
   "source": [
    "import numpy as np"
   ]
  },
  {
   "cell_type": "code",
   "execution_count": 9,
   "metadata": {},
   "outputs": [],
   "source": [
    "users = list(top_nodes)\n",
    "groups = list(bottom_nodes)"
   ]
  },
  {
   "cell_type": "code",
   "execution_count": 10,
   "metadata": {},
   "outputs": [
    {
     "data": {
      "text/plain": [
       "62098"
      ]
     },
     "execution_count": 10,
     "metadata": {},
     "output_type": "execute_result"
    }
   ],
   "source": [
    "num = 41108 + 20990\n",
    "num # the number we need"
   ]
  },
  {
   "cell_type": "code",
   "execution_count": 32,
   "metadata": {},
   "outputs": [
    {
     "data": {
      "text/plain": [
       "33410.0"
      ]
     },
     "execution_count": 32,
     "metadata": {},
     "output_type": "execute_result"
    }
   ],
   "source": [
    "np.ceil(num*2*0.6 - 41108)"
   ]
  },
  {
   "cell_type": "code",
   "execution_count": 24,
   "metadata": {},
   "outputs": [],
   "source": [
    "neg = []\n",
    "rs = np.random.RandomState(427)\n",
    "user_ids = rs.randint(len(users), size = num)\n",
    "\n",
    "for user_id in user_ids:\n",
    "    group_id = np.random.randint(len(groups))\n",
    "    user = users[user_id]\n",
    "    group = groups[group_id]\n",
    "    while (user, group) in g.edges():\n",
    "        group_id = np.random.randint(len(groups))\n",
    "        group = groups[group_id]\n",
    "    \n",
    "    neg.append((user, group, 0))"
   ]
  },
  {
   "cell_type": "code",
   "execution_count": 26,
   "metadata": {},
   "outputs": [],
   "source": [
    "pos = []\n",
    "with open('youtube_train.dat', 'r') as fin:\n",
    "    for line in fin:\n",
    "        user, group = line.strip().split(',')\n",
    "        pos.append((user, group, 1))"
   ]
  },
  {
   "cell_type": "code",
   "execution_count": 33,
   "metadata": {},
   "outputs": [],
   "source": [
    "neg_train = neg[:33410]\n",
    "neg_test = neg[33410:]"
   ]
  },
  {
   "cell_type": "code",
   "execution_count": 34,
   "metadata": {},
   "outputs": [
    {
     "data": {
      "text/plain": [
       "41108"
      ]
     },
     "execution_count": 34,
     "metadata": {},
     "output_type": "execute_result"
    }
   ],
   "source": [
    "len(pos)"
   ]
  },
  {
   "cell_type": "code",
   "execution_count": 35,
   "metadata": {},
   "outputs": [],
   "source": [
    "pos.extend(neg_train)"
   ]
  },
  {
   "cell_type": "code",
   "execution_count": 38,
   "metadata": {},
   "outputs": [],
   "source": [
    "np.random.shuffle(pos)"
   ]
  },
  {
   "cell_type": "code",
   "execution_count": 40,
   "metadata": {},
   "outputs": [],
   "source": [
    "user, group, tag = pos[0]"
   ]
  },
  {
   "cell_type": "code",
   "execution_count": 41,
   "metadata": {},
   "outputs": [
    {
     "data": {
      "text/plain": [
       "'u18171'"
      ]
     },
     "execution_count": 41,
     "metadata": {},
     "output_type": "execute_result"
    }
   ],
   "source": [
    "user"
   ]
  },
  {
   "cell_type": "code",
   "execution_count": 43,
   "metadata": {},
   "outputs": [],
   "source": [
    "with open('case_train.dat', 'w') as fin:\n",
    "    for ent in pos:\n",
    "        user, group, tag = ent\n",
    "        fin.write('{} {} {}\\n'.format(user, group, tag))"
   ]
  },
  {
   "cell_type": "code",
   "execution_count": 44,
   "metadata": {},
   "outputs": [],
   "source": [
    "pos_test = []\n",
    "with open('youtube_test.dat', 'r') as fin:\n",
    "    for line in fin:\n",
    "        user, group = line.strip().split(',')\n",
    "        pos_test.append((user,group,1))"
   ]
  },
  {
   "cell_type": "code",
   "execution_count": 46,
   "metadata": {},
   "outputs": [],
   "source": [
    "pos_test.extend(neg_test)"
   ]
  },
  {
   "cell_type": "code",
   "execution_count": 48,
   "metadata": {},
   "outputs": [],
   "source": [
    "np.random.shuffle(pos_test)"
   ]
  },
  {
   "cell_type": "code",
   "execution_count": 50,
   "metadata": {},
   "outputs": [],
   "source": [
    "with open('case_test.dat', 'w') as fin:\n",
    "    for ent in pos_test:\n",
    "        user, group, tag = ent\n",
    "        fin.write('{} {} {}\\n'.format(user, group, tag))"
   ]
  },
  {
   "cell_type": "code",
   "execution_count": null,
   "metadata": {},
   "outputs": [],
   "source": []
  }
 ],
 "metadata": {
  "kernelspec": {
   "display_name": "Python 3",
   "language": "python",
   "name": "python3"
  },
  "language_info": {
   "codemirror_mode": {
    "name": "ipython",
    "version": 3
   },
   "file_extension": ".py",
   "mimetype": "text/x-python",
   "name": "python",
   "nbconvert_exporter": "python",
   "pygments_lexer": "ipython3",
   "version": "3.6.4"
  }
 },
 "nbformat": 4,
 "nbformat_minor": 2
}
