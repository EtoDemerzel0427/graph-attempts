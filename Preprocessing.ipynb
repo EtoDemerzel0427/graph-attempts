{
 "cells": [
  {
   "cell_type": "markdown",
   "metadata": {},
   "source": [
    "## Intro to the datasets\n",
    "\n",
    "**EDIT: I deleted the GitHub dataset here since the description in the doc made me confused.**\n",
    "\n",
    "In YouTube dataset, each line contains a user identifier followed by a group identifier (separated by a tab), implying that the user is a member of the group.\n",
    "\n",
    "**user-num**: 94238\n",
    "\n",
    "**group-num**:30087\n"
   ]
  },
  {
   "cell_type": "markdown",
   "metadata": {},
   "source": [
    "## Randomly select 20000 users\n",
    "\n",
    "As is proposed in the paper of BiNE, we should extract 15000 users and reserve all their edges to be our universal dataset. Since these 2 datasets are sparser than Wikipedia, we select 20000 users here.\n",
    "\n",
    "After selection, the edge number:\n",
    "\n",
    "* **YouTube**: 62098\n",
    "\n",
    "Also, we want to rename all user identifiers by adding a letter 'u' before them, and all group/project identifiers by a letter 'i' so as to distinguish them.\n",
    "\n",
    "Note that in YouTube dataset there is one extra line, so we use `next` to skip it."
   ]
  },
  {
   "cell_type": "code",
   "execution_count": 76,
   "metadata": {},
   "outputs": [],
   "source": [
    "import numpy as np"
   ]
  },
  {
   "cell_type": "code",
   "execution_count": 37,
   "metadata": {},
   "outputs": [],
   "source": [
    "a = np.arange(1,94239)\n",
    "b = np.arange(1, 120868)"
   ]
  },
  {
   "cell_type": "code",
   "execution_count": 47,
   "metadata": {},
   "outputs": [],
   "source": [
    "rs1 = np.random.RandomState(111)\n",
    "rs2 = np.random.RandomState(222)\n",
    "#users_y = rs1.randint(low=1, high=94238, size = 20000)\n",
    "#users_g = rs2.randint(low=1, high=120867, size = 20000)\n",
    "rs1.shuffle(a)\n",
    "rs2.shuffle(b)\n",
    "users_y = a[:20000]\n",
    "users_g = b[:20000]"
   ]
  },
  {
   "cell_type": "code",
   "execution_count": 48,
   "metadata": {},
   "outputs": [
    {
     "data": {
      "text/plain": [
       "62098"
      ]
     },
     "execution_count": 48,
     "metadata": {},
     "output_type": "execute_result"
    }
   ],
   "source": [
    "with open('out.youtube-groupmemberships', 'r') as fin, open('youtube_selected.dat','w') as fout:\n",
    "    next(fin)\n",
    "    line_num = 0\n",
    "    for line in fin:\n",
    "        user, group = line.strip().split(' ')\n",
    "        if int(user) in users_y:\n",
    "            line_num += 1\n",
    "            fout.write('u' + user + ' ' + 'i' + group + '\\n')    \n",
    "\n",
    "line_num"
   ]
  },
  {
   "cell_type": "markdown",
   "metadata": {},
   "source": [
    "## Split training and test set\n",
    "\n",
    "As BiNE proposed, we should take 60% edges of each user as the training set, and the other 40% as the positive samples in the test set. For the test set, we need to sample an equal number of negative samples i.e. edges that does not exist."
   ]
  },
  {
   "cell_type": "markdown",
   "metadata": {},
   "source": [
    "### First we calculate each user's edge number\n"
   ]
  },
  {
   "cell_type": "code",
   "execution_count": 61,
   "metadata": {},
   "outputs": [],
   "source": [
    "def user_cnt(filename):\n",
    "    cnt = []\n",
    "    \n",
    "    i = 0\n",
    "    first = True\n",
    "    with open(filename, 'r') as fin:\n",
    "        for line in fin:\n",
    "            user, group = line.strip().split(' ')\n",
    "            # for the first line\n",
    "            if first:\n",
    "                cur = user\n",
    "                first = False\n",
    "                i = 0\n",
    "        \n",
    "            if user != cur:\n",
    "                cnt.append(i) # count finish\n",
    "                i = 1 # restart and count for 1\n",
    "                cur = user  \n",
    "            else:\n",
    "                i += 1\n",
    "    \n",
    "        # the last entity\n",
    "        cnt.append(i)\n",
    "    \n",
    "    return cnt"
   ]
  },
  {
   "cell_type": "code",
   "execution_count": 62,
   "metadata": {},
   "outputs": [],
   "source": [
    "youtube_cnt = user_cnt('youtube_selected.dat')"
   ]
  },
  {
   "cell_type": "markdown",
   "metadata": {},
   "source": [
    "### Then for each user, split 60% for Training set\n",
    "\n",
    "Before using pandas `read_table`, I manually add a line in the file:\n",
    "```\n",
    "user item\n",
    "```\n",
    "to serve as the heading."
   ]
  },
  {
   "cell_type": "code",
   "execution_count": null,
   "metadata": {},
   "outputs": [],
   "source": [
    "with open('youtube_selected.dat', 'r') as fin, open('youtube_train.dat', 'w') as fout1,\n",
    "open('youtube_test', 'w') as fout2:\n",
    "    for line in fin:\n",
    "        user, group = line.strip().split(' ')\n",
    "        "
   ]
  },
  {
   "cell_type": "code",
   "execution_count": 83,
   "metadata": {},
   "outputs": [],
   "source": [
    "import pandas as pd"
   ]
  },
  {
   "cell_type": "code",
   "execution_count": 84,
   "metadata": {},
   "outputs": [],
   "source": [
    "f = pd.read_table('youtube_selected.dat', sep = ' ')"
   ]
  },
  {
   "cell_type": "code",
   "execution_count": 88,
   "metadata": {},
   "outputs": [
    {
     "data": {
      "text/html": [
       "<div>\n",
       "<style scoped>\n",
       "    .dataframe tbody tr th:only-of-type {\n",
       "        vertical-align: middle;\n",
       "    }\n",
       "\n",
       "    .dataframe tbody tr th {\n",
       "        vertical-align: top;\n",
       "    }\n",
       "\n",
       "    .dataframe thead th {\n",
       "        text-align: right;\n",
       "    }\n",
       "</style>\n",
       "<table border=\"1\" class=\"dataframe\">\n",
       "  <thead>\n",
       "    <tr style=\"text-align: right;\">\n",
       "      <th></th>\n",
       "      <th>user</th>\n",
       "      <th>item</th>\n",
       "    </tr>\n",
       "  </thead>\n",
       "  <tbody>\n",
       "    <tr>\n",
       "      <th>2</th>\n",
       "      <td>u5</td>\n",
       "      <td>i22</td>\n",
       "    </tr>\n",
       "    <tr>\n",
       "      <th>1</th>\n",
       "      <td>u5</td>\n",
       "      <td>i21</td>\n",
       "    </tr>\n",
       "    <tr>\n",
       "      <th>0</th>\n",
       "      <td>u5</td>\n",
       "      <td>i20</td>\n",
       "    </tr>\n",
       "  </tbody>\n",
       "</table>\n",
       "</div>"
      ],
      "text/plain": [
       "  user item\n",
       "2   u5  i22\n",
       "1   u5  i21\n",
       "0   u5  i20"
      ]
     },
     "execution_count": 88,
     "metadata": {},
     "output_type": "execute_result"
    }
   ],
   "source": [
    "start, end = 0, 0\n",
    "for i in youtube_cnt:\n",
    "    start = end\n",
    "    end = start + i\n",
    "    x = f.iloc[start:end, :].sample(frac=1)\n",
    "    \n",
    "    "
   ]
  }
 ],
 "metadata": {
  "kernelspec": {
   "display_name": "Python 3",
   "language": "python",
   "name": "python3"
  },
  "language_info": {
   "codemirror_mode": {
    "name": "ipython",
    "version": 3
   },
   "file_extension": ".py",
   "mimetype": "text/x-python",
   "name": "python",
   "nbconvert_exporter": "python",
   "pygments_lexer": "ipython3",
   "version": "3.6.4"
  }
 },
 "nbformat": 4,
 "nbformat_minor": 2
}
