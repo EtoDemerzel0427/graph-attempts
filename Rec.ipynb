{
 "cells": [
  {
   "cell_type": "code",
   "execution_count": 1,
   "metadata": {},
   "outputs": [],
   "source": [
    "import numpy as np\n",
    "import math"
   ]
  },
  {
   "cell_type": "code",
   "execution_count": 2,
   "metadata": {},
   "outputs": [],
   "source": [
    "def top_N(test_u, test_v, test_rate, node_list_u, node_list_v, top_n):\n",
    "    recommend_dict = {}\n",
    "    for u in test_u:\n",
    "        recommend_dict[u] = {}\n",
    "        for v in test_v:\n",
    "            if node_list_u.get(u) is None:\n",
    "                pre = 0\n",
    "            else:\n",
    "                U = np.array(node_list_u[u])\n",
    "                if node_list_v.get(v) is None:\n",
    "                    pre = 0\n",
    "                else:\n",
    "                    V = np.array(node_list_v[v])\n",
    "                    pre = U.dot(V.T)\n",
    "            recommend_dict[u][v] = float(pre)\n",
    "\n",
    "    precision_list = []\n",
    "    recall_list = []\n",
    "    ap_list = []\n",
    "    ndcg_list = []\n",
    "    rr_list = []\n",
    "\n",
    "    for u in test_u:\n",
    "        tmp_r = sorted(recommend_dict[u].items(), key = lambda x: x[1], reverse=True)[0:min(len(recommend_dict[u]),top_n)]\n",
    "        tmp_t = sorted(test_rate[u].items(), key = lambda x: x[1], reverse=True)[0:min(len(test_rate[u]),len(test_rate[u]))]\n",
    "      #  tmp_t = sorted(test_rate[u].items(), key = lambda x: x[1], reverse=True)[0:min(len(test_rate[u]), top_n)]\n",
    "      #  print(tmp_r)\n",
    "        tmp_r_list = []\n",
    "        tmp_t_list = []\n",
    "        for (item, rate) in tmp_r:\n",
    "            tmp_r_list.append(item)\n",
    "\n",
    "        for (item, rate) in tmp_t:\n",
    "            tmp_t_list.append(item)\n",
    "        pre, rec = precision_and_recall(tmp_r_list,tmp_t_list)\n",
    "        ap = AP(tmp_r_list,tmp_t_list)\n",
    "        rr = RR(tmp_r_list,tmp_t_list)\n",
    "        ndcg = nDCG(tmp_r_list,tmp_t_list)\n",
    "        precision_list.append(pre)\n",
    "        recall_list.append(rec)\n",
    "        ap_list.append(ap)\n",
    "        rr_list.append(rr)\n",
    "        ndcg_list.append(ndcg)\n",
    "    precison = sum(precision_list) / len(precision_list)\n",
    "    recall = sum(recall_list) / len(recall_list)\n",
    "    #print(precison, recall)\n",
    "    f1 = 2 * precison * recall / (precison + recall)\n",
    "    _map = sum(ap_list) / len(ap_list)\n",
    "    mrr = sum(rr_list) / len(rr_list)\n",
    "    mndcg = sum(ndcg_list) / len(ndcg_list)\n",
    "    return f1,_map,mrr,mndcg\n",
    "\n",
    "def nDCG(ranked_list, ground_truth):\n",
    "    dcg = 0\n",
    "    idcg = IDCG(len(ground_truth))\n",
    "    for i in range(len(ranked_list)):\n",
    "        id = ranked_list[i]\n",
    "        if id not in ground_truth:\n",
    "            continue\n",
    "        rank = i+1\n",
    "        dcg += 1/ math.log(rank+1, 2)\n",
    "    return dcg / idcg\n",
    "\n",
    "def IDCG(n):\n",
    "    idcg = 0\n",
    "    for i in range(n):\n",
    "        idcg += 1 / math.log(i+2, 2)\n",
    "    return idcg\n",
    "\n",
    "def AP(ranked_list, ground_truth):\n",
    "    hits, sum_precs = 0, 0.0\n",
    "    for i in range(len(ranked_list)):\n",
    "        id = ranked_list[i]\n",
    "        if id in ground_truth:\n",
    "            hits += 1\n",
    "            sum_precs += hits / (i+1.0)\n",
    "    if hits > 0:\n",
    "        return sum_precs / len(ground_truth)\n",
    "    else:\n",
    "        return 0.0\n",
    "\n",
    "def RR(ranked_list, ground_list):\n",
    "\n",
    "    for i in range(len(ranked_list)):\n",
    "        id = ranked_list[i]\n",
    "        if id in ground_list:\n",
    "            return 1 / (i + 1.0)\n",
    "    return 0\n",
    "\n",
    "def precision_and_recall(ranked_list,ground_list):\n",
    "    hits = 0\n",
    "    for i in range(len(ranked_list)):\n",
    "        id = ranked_list[i]\n",
    "        if id in ground_list:\n",
    "            hits += 1\n",
    "    pre = hits/(1.0 * len(ranked_list))\n",
    "    rec = hits/(1.0 * len(ground_list))\n",
    "    return pre, rec"
   ]
  },
  {
   "cell_type": "code",
   "execution_count": 9,
   "metadata": {},
   "outputs": [],
   "source": [
    "def read_data(filename_u, filename_i):\n",
    "    user_vectors = {}\n",
    "    item_vectors = {}\n",
    "    with open(filename_u + '.txt', 'r') as fin:\n",
    "        for line in fin.readlines():\n",
    "            vec = line.strip().split(' ')\n",
    "            usr,usr_vec = vec[0], vec[1:]\n",
    "            usr_vec = np.array(usr_vec, dtype = 'float64')\n",
    "            user_vectors[usr] = usr_vec\n",
    "            \n",
    "    with open(filename_i + '.txt', 'r') as fin:\n",
    "        for line in fin.readlines():\n",
    "            vec = line.strip().split(' ')\n",
    "            item, item_vec = vec[0], vec[1:]\n",
    "            item_vec = np.array(item_vec, dtype = 'float64')\n",
    "            item_vectors[item] = item_vec\n",
    "            \n",
    "    return user_vectors, item_vectors"
   ]
  },
  {
   "cell_type": "code",
   "execution_count": 6,
   "metadata": {},
   "outputs": [],
   "source": [
    "def load_test(filename = '../../../BiNE-master/data/rating_test.dat'):\n",
    "    users,items,rates = set(), set(), {}\n",
    "    with open(filename, \"r\", encoding=\"UTF-8\") as fin:\n",
    "        line = fin.readline()\n",
    "        while line:\n",
    "            user, item, rate = line.strip().split()\n",
    "            if rates.get(user) is None:\n",
    "                rates[user] = {}\n",
    "            rates[user][item] = float(rate)\n",
    "            users.add(user)\n",
    "            items.add(item)\n",
    "            line = fin.readline()\n",
    "        return users, items, rates"
   ]
  },
  {
   "cell_type": "code",
   "execution_count": 7,
   "metadata": {},
   "outputs": [],
   "source": [
    "test_u, test_v, test_r = load_test()"
   ]
  },
  {
   "cell_type": "code",
   "execution_count": 8,
   "metadata": {},
   "outputs": [
    {
     "data": {
      "text/plain": [
       "[('i594', 9.0),\n",
       " ('i984', 9.0),\n",
       " ('i208', 3.0),\n",
       " ('i234', 1.0),\n",
       " ('i587', 1.0),\n",
       " ('i1427', 1.0),\n",
       " ('i1491', 1.0),\n",
       " ('i1048', 1.0),\n",
       " ('i145', 1.0),\n",
       " ('i547', 1.0),\n",
       " ('i470', 1.0),\n",
       " ('i809', 1.0)]"
      ]
     },
     "execution_count": 8,
     "metadata": {},
     "output_type": "execute_result"
    }
   ],
   "source": [
    "sorted(test_r['u289'].items(), key = lambda x: x[1], reverse = True)"
   ]
  },
  {
   "cell_type": "code",
   "execution_count": 10,
   "metadata": {},
   "outputs": [],
   "source": [
    "vec_u, vec_i = read_data('u','v')"
   ]
  },
  {
   "cell_type": "code",
   "execution_count": 16,
   "metadata": {},
   "outputs": [],
   "source": [
    "f1, _map, mrr, ndcg = top_N(test_u, test_v, test_r, vec_u, vec_i, 10)"
   ]
  },
  {
   "cell_type": "code",
   "execution_count": 17,
   "metadata": {},
   "outputs": [
    {
     "name": "stdout",
     "output_type": "stream",
     "text": [
      "f1 =  0.90050282904182%\n",
      "map =  1.2717098485969989%\n",
      "mrr =  2.3390181617818486%\n",
      "ndcg =  1.8471031881966267%\n"
     ]
    }
   ],
   "source": [
    "print('f1 = ', str(f1*100) + '%')\n",
    "print('map = ', str(_map*100) + '%')\n",
    "print('mrr = ', str(mrr*100) + '%')\n",
    "print('ndcg = ', str(ndcg*100) + '%')"
   ]
  }
 ],
 "metadata": {
  "kernelspec": {
   "display_name": "Python 3",
   "language": "python",
   "name": "python3"
  },
  "language_info": {
   "codemirror_mode": {
    "name": "ipython",
    "version": 3
   },
   "file_extension": ".py",
   "mimetype": "text/x-python",
   "name": "python",
   "nbconvert_exporter": "python",
   "pygments_lexer": "ipython3",
   "version": "3.6.4"
  }
 },
 "nbformat": 4,
 "nbformat_minor": 2
}
